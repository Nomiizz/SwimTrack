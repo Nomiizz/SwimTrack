{
 "cells": [
  {
   "cell_type": "code",
   "execution_count": null,
   "metadata": {},
   "outputs": [],
   "source": [
    "import pandas as pd\n",
    "import numpy as np\n",
    "%matplotlib inline\n",
    "import matplotlib.pyplot as plt\n",
    "from os import listdir\n",
    "from sklearn.utils import shuffle\n",
    "from keras import optimizers\n"
   ]
  },
  {
   "cell_type": "code",
   "execution_count": null,
   "metadata": {},
   "outputs": [],
   "source": [
    "from keras.preprocessing import sequence\n",
    "import tensorflow as tf\n",
    "from keras.models import Sequential\n",
    "from keras.layers import Dense\n",
    "from keras.layers import LSTM\n",
    "\n",
    "from keras.optimizers import Adam\n",
    "from keras.models import load_model\n",
    "from keras.callbacks import ModelCheckpoint"
   ]
  },
  {
   "cell_type": "code",
   "execution_count": null,
   "metadata": {},
   "outputs": [],
   "source": [
    "swim_list = ['Process_data_freestylestagnant_tag1_chunk1.csv', 'Process_data_freestylestagnant_tag1_chunk2.csv', 'Process_data_freestylestagnant_tag1_chunk3.csv', 'Process_data_freestylestagnant_tag1_chunk4.csv', 'Process_data_freestylestagnant_tag2_chunk1.csv', 'Process_data_freestylestagnant_tag2_chunk2.csv', 'Process_data_freestylestagnant_tag2_chunk3.csv', 'Process_data_freestylestagnant_tag2_chunk4.csv']"
   ]
  },
  {
   "cell_type": "code",
   "execution_count": null,
   "metadata": {},
   "outputs": [],
   "source": [
    "drown_list = ['Process_data_drowning1_tag1_chunk0.csv','Process_data_drowning1_tag1_chunk1.csv', 'Process_data_drowning1_tag2_chunk0.csv', 'Process_data_drowning1_tag2_chunk1 .csv', 'Process_data_drowning2_tag1_chunk0.csv', 'Process_data_drowning3_tag1_chunk0.csv', 'Process_data_drowning3_tag1_chunk1.csv', 'Process_data_drowning3_tag1_chunk2.csv', 'Process_data_drowning3_tag2_chunk0.csv', 'Process_data_drowning3_tag2_chunk1.csv']"
   ]
  },
  {
   "cell_type": "code",
   "execution_count": null,
   "metadata": {},
   "outputs": [],
   "source": [
    "len(drown_list)"
   ]
  },
  {
   "cell_type": "code",
   "execution_count": null,
   "metadata": {},
   "outputs": [],
   "source": [
    "sequences = list()\n",
    "swim_train = []\n",
    "swim_validate = []\n",
    "swim_test = []"
   ]
  },
  {
   "cell_type": "code",
   "execution_count": null,
   "metadata": {},
   "outputs": [],
   "source": [
    "for file in enumerate(swim_list):\n",
    "    if file[0]<18:\n",
    "        swim_train.append(file[1])\n",
    "    elif file[0]<24:\n",
    "        swim_validate.append(file[1])\n",
    "    else:\n",
    "        swim_test.append(file[1])"
   ]
  },
  {
   "cell_type": "code",
   "execution_count": null,
   "metadata": {},
   "outputs": [],
   "source": [
    "swim_train_list =np.empty((0,1000),int)\n",
    "swim_validate_list =np.empty((0,1000),int)\n",
    "swim_test_list = np.empty((0,1000),int)"
   ]
  },
  {
   "cell_type": "code",
   "execution_count": null,
   "metadata": {},
   "outputs": [],
   "source": [
    "for file in swim_train:\n",
    "    df = np.genfromtxt(file,delimiter=',',skip_header=1)\n",
    "    values = df[:,2].reshape(1,1000)    \n",
    "    swim_train_list=np.append(swim_train_list,values.reshape(1,1000),axis=0)\n"
   ]
  },
  {
   "cell_type": "code",
   "execution_count": null,
   "metadata": {},
   "outputs": [],
   "source": [
    "for file in swim_validate:\n",
    "    df = np.genfromtxt(file,delimiter=',',skip_header=1)\n",
    "    values = df[:,2].reshape(1,1000)    \n",
    "    swim_validate_list=np.append(swim_validate_list,values.reshape(1,1000),axis=0)\n",
    "\n",
    "for file in swim_test:\n",
    "    df = np.genfromtxt(file,delimiter=',',skip_header=1)\n",
    "    values = df[:,2].reshape(1,1000)    \n",
    "    swim_test_list=np.append(swim_test_list,values.reshape(1,1000),axis=0)\n"
   ]
  },
  {
   "cell_type": "code",
   "execution_count": null,
   "metadata": {},
   "outputs": [],
   "source": []
  },
  {
   "cell_type": "markdown",
   "metadata": {},
   "source": [
    "####Drown Data####"
   ]
  },
  {
   "cell_type": "code",
   "execution_count": null,
   "metadata": {},
   "outputs": [],
   "source": [
    "\n",
    "drown_train =[]\n",
    "drown_validate =[]\n",
    "drown_test =[]"
   ]
  },
  {
   "cell_type": "code",
   "execution_count": null,
   "metadata": {},
   "outputs": [],
   "source": [
    "for file in enumerate(drown_list):\n",
    "    if file[0]<6:\n",
    "        drown_train.append(file[1])\n",
    "    elif file[0]<8:\n",
    "        drown_validate.append(file[1])\n",
    "    else:\n",
    "        drown_test.append(file[1])"
   ]
  },
  {
   "cell_type": "code",
   "execution_count": null,
   "metadata": {},
   "outputs": [],
   "source": [
    "for file in drown_train:\n",
    "    df = np.genfromtxt(file,delimiter=',',skip_header=1)\n",
    "    values = df[:,2].reshape(1,1000)    \n",
    "    swim_train_list=np.append(swim_train_list,values.reshape(1,1000),axis=0)\n",
    "    \n",
    "for file in drown_validate:\n",
    "    df = np.genfromtxt(file,delimiter=',',skip_header=1)\n",
    "    values = df[:,2].reshape(1,1000)    \n",
    "    swim_validate_list=np.append(swim_validate_list,values.reshape(1,1000),axis=0)\n",
    "\n",
    "for file in drown_test:\n",
    "    df = np.genfromtxt(file,delimiter=',',skip_header=1)\n",
    "    values = df[:,2].reshape(1,1000)    \n",
    "    swim_test_list=np.append(swim_test_list,values.reshape(1,1000),axis=0)"
   ]
  },
  {
   "cell_type": "code",
   "execution_count": null,
   "metadata": {},
   "outputs": [],
   "source": [
    "swim_train_list = np.array(swim_train_list)\n",
    "swim_validate_list = np.array(swim_validate_list)\n",
    "swim_test_list = np.array(swim_test_list)"
   ]
  },
  {
   "cell_type": "code",
   "execution_count": null,
   "metadata": {},
   "outputs": [],
   "source": [
    "swim_train_list.shape"
   ]
  },
  {
   "cell_type": "code",
   "execution_count": null,
   "metadata": {},
   "outputs": [],
   "source": [
    "train_target_swim = np.zeros(18)\n",
    "train_target_drown = np.ones(6)\n",
    "train_target = np.concatenate([train_target_swim,train_target_drown])\n",
    "\n",
    "validate_target_swim = np.zeros(6)\n",
    "validate_target_drown = np.ones(2)\n",
    "validate_target = np.concatenate([validate_target_swim,validate_target_drown])\n",
    "\n",
    "test_target_swim = np.zeros(6)\n",
    "test_target_drown = np.ones(2)\n",
    "test_target = np.concatenate([test_target_swim,test_target_drown])"
   ]
  },
  {
   "cell_type": "code",
   "execution_count": null,
   "metadata": {},
   "outputs": [],
   "source": [
    "swim_train_list, train_target = shuffle(swim_train_list, train_target, random_state=0)\n",
    "swim_validate_list, validate_target = shuffle(swim_validate_list, validate_target, random_state=0)\n",
    "swim_test_list, test_target = shuffle(swim_test_list, test_target, random_state=0)"
   ]
  },
  {
   "cell_type": "code",
   "execution_count": null,
   "metadata": {},
   "outputs": [],
   "source": [
    "swim_train_list.shape\n",
    "train_target"
   ]
  },
  {
   "cell_type": "code",
   "execution_count": null,
   "metadata": {},
   "outputs": [],
   "source": [
    "model = Sequential()\n",
    "model.add(LSTM(50, input_shape=(1000,1)))\n",
    "model.add(Dense(1, activation='sigmoid'))"
   ]
  },
  {
   "cell_type": "code",
   "execution_count": null,
   "metadata": {},
   "outputs": [],
   "source": [
    "model.summary()"
   ]
  },
  {
   "cell_type": "code",
   "execution_count": null,
   "metadata": {},
   "outputs": [],
   "source": [
    "adam = Adam(lr=0.001)\n",
    "model.compile(loss='binary_crossentropy', optimizer=adam, metrics=['accuracy'])\n",
    "model.fit(swim_train_list, train_target, epochs=20, batch_size=64, validation_data=(swim_validate_list,validate_target))"
   ]
  },
  {
   "cell_type": "code",
   "execution_count": null,
   "metadata": {},
   "outputs": [],
   "source": [
    "from sklearn.metrics import accuracy_score\n",
    "test_preds = model.predict_classes(swim_test_list)\n",
    "accuracy_score(test_target, test_preds)"
   ]
  },
  {
   "cell_type": "code",
   "execution_count": null,
   "metadata": {},
   "outputs": [],
   "source": [
    "test_preds"
   ]
  },
  {
   "cell_type": "code",
   "execution_count": null,
   "metadata": {},
   "outputs": [],
   "source": [
    "\n",
    "\n",
    "\n"
   ]
  },
  {
   "cell_type": "code",
   "execution_count": null,
   "metadata": {},
   "outputs": [],
   "source": [
    "from sklearn.neighbors import KNeighborsClassifier\n",
    "from sklearn import metrics\n",
    "scores = {}\n",
    "scores_list = []\n",
    "for k in range(1,25):\n",
    "    knn = KNeighborsClassifier(n_neighbors=k, p=2)\n",
    "    knn.fit(swim_train_list,train_target)\n",
    "    y_pred=knn.predict(swim_test_list)\n",
    "    scores[k] = metrics.accuracy_score(test_target,y_pred)\n",
    "    scores_list.append(metrics.accuracy_score(test_target,y_pred))"
   ]
  },
  {
   "cell_type": "code",
   "execution_count": null,
   "metadata": {},
   "outputs": [],
   "source": [
    "scores"
   ]
  },
  {
   "cell_type": "code",
   "execution_count": null,
   "metadata": {},
   "outputs": [],
   "source": [
    "scores_list"
   ]
  },
  {
   "cell_type": "code",
   "execution_count": null,
   "metadata": {},
   "outputs": [],
   "source": [
    "from sklearn.svm import SVC  \n",
    "svclassifier = SVC(kernel='rbf', C=0.001, gamma=0.001)  \n",
    "svclassifier.fit(swim_train_list, train_target)  "
   ]
  },
  {
   "cell_type": "code",
   "execution_count": null,
   "metadata": {},
   "outputs": [],
   "source": [
    "y_pred = svclassifier.predict(swim_test_list)  "
   ]
  },
  {
   "cell_type": "code",
   "execution_count": null,
   "metadata": {},
   "outputs": [],
   "source": [
    "from sklearn.metrics import classification_report, confusion_matrix  \n",
    "print(confusion_matrix(train_target,y_pred))  \n",
    "print(classification_report(train_target,y_pred))  "
   ]
  },
  {
   "cell_type": "code",
   "execution_count": null,
   "metadata": {},
   "outputs": [],
   "source": [
    "from sklearn.metrics import accuracy_score\n",
    "accuracy_score(test_target, y_pred, sample_weight=None)"
   ]
  },
  {
   "cell_type": "code",
   "execution_count": null,
   "metadata": {},
   "outputs": [],
   "source": [
    "y_pred"
   ]
  },
  {
   "cell_type": "code",
   "execution_count": null,
   "metadata": {},
   "outputs": [],
   "source": [
    "from sklearn import svm\n",
    "from sklearn.model_selection import GridSearchCV\n",
    "\n",
    "def svc_param_selection(X, y, nfolds):\n",
    "    Cs = [0.001, 0.01, 0.1, 1, 10]\n",
    "    gammas = [0.001, 0.01, 0.1, 1]\n",
    "    param_grid = {'C': Cs, 'gamma' : gammas}\n",
    "    grid_search = GridSearchCV(svm.SVC(kernel='rbf'), param_grid, cv=nfolds)\n",
    "    grid_search.fit(X, y)\n",
    "    grid_search.best_params_\n",
    "    return grid_search.best_params_"
   ]
  },
  {
   "cell_type": "code",
   "execution_count": null,
   "metadata": {},
   "outputs": [],
   "source": [
    "svc_param_selection(swim_train_list, train_target, 10)"
   ]
  },
  {
   "cell_type": "code",
   "execution_count": null,
   "metadata": {},
   "outputs": [],
   "source": []
  }
 ],
 "metadata": {
  "kernelspec": {
   "display_name": "Python 3",
   "language": "python",
   "name": "python3"
  },
  "language_info": {
   "codemirror_mode": {
    "name": "ipython",
    "version": 3
   },
   "file_extension": ".py",
   "mimetype": "text/x-python",
   "name": "python",
   "nbconvert_exporter": "python",
   "pygments_lexer": "ipython3",
   "version": "3.6.8"
  }
 },
 "nbformat": 4,
 "nbformat_minor": 2
}
